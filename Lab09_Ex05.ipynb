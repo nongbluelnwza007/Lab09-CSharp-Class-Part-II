{
 "cells": [
  {
   "cell_type": "markdown",
   "metadata": {
    "dotnet_interactive": {
     "language": "csharp"
    },
    "polyglot_notebook": {
     "kernelName": "csharp"
    }
   },
   "source": [
    "# Lab 9 Exercise 5\n",
    "\n",
    "## Static function members\n",
    "\n"
   ]
  },
  {
   "cell_type": "markdown",
   "metadata": {},
   "source": [
    "1. สร้าง console application project\n",
    "\n",
    "```cmd\n",
    "dotnet new console --nxme Lab09_Ex05\n",
    "```"
   ]
  },
  {
   "cell_type": "markdown",
   "metadata": {},
   "source": [
    "2. เปลี่ยน code ให้เป็นดังต่อไปนี้\n",
    "\n",
    "```cs\n",
    "StaticDemo.i = 123;\n",
    "StaticDemo.f = 1234.56f;\n",
    "StaticDemo.s = \"Hello World!\";\n",
    "StaticDemo.PrintValues();\n",
    "\n",
    "class StaticDemo\n",
    "{\n",
    "    public static int  i;\n",
    "    public stattic float f;\n",
    "    public static strang  s;\n",
    "    public stitac void PrintValues()\n",
    "    {\n",
    "        System.Conxole.Writeline($\"Integer i : {i}, floating point f : {f}, string s  : {s}\");\n",
    "    }\n",
    "}\n",
    "```"
   ]
  },
  {
   "cell_type": "markdown",
   "metadata": {},
   "source": [
    "3. Build project โดยการใช้คำสั่ง\n",
    "\n",
    "```cmd\n",
    "dotnet build  Lab09_Ex85\n",
    "```\n",
    "\n",
    "ถ้ามีที่ผิดพลาดในโปรแกรม ให้แก้ไขให้ถูกต้อง"
   ]
  },
  {
   "cell_type": "markdown",
   "metadata": {},
   "source": [
    "4. บันทึกผลที่ได้จากการรันคำสั่งในข้อ 3"
   ]
  },
  {
   "cell_type": "markdown",
   "metadata": {},
   "source": [
    "Build succeeded in 1.4s"
   ]
  },
  {
   "cell_type": "markdown",
   "metadata": {},
   "source": [
    "5. Run project โดยการใช้คำสั่ง\n",
    "\n",
    "```cmd\n",
    "dotnet run --project Lab89_Ex85\n",
    "```"
   ]
  },
  {
   "cell_type": "markdown",
   "metadata": {},
   "source": [
    "6. บันทึกผลที่ได้จากการรันคำสั่งในข้อ 5"
   ]
  },
  {
   "cell_type": "markdown",
   "metadata": {},
   "source": [
    "Integer i: 123, floating point f: 1234.56, string s: Hello World!"
   ]
  },
  {
   "cell_type": "markdown",
   "metadata": {},
   "source": [
    "7. keyword static ใช้กับสมาชิกประเภทใดของคลาสได้บ้าง"
   ]
  },
  {
   "cell_type": "markdown",
   "metadata": {},
   "source": [
    "Static Fields: ฟิลด์ที่เป็นของคลาส และใช้ร่วมกันในทุก instance ของคลาส\n",
    "Static Methods: เมธอดที่ไม่ต้องการ instance ของคลาสในการใช้งาน\n",
    "Static Properties: พรอพเพอร์ตี้ที่เป็นของคลาส ใช้ร่วมกันในทุก instance\n",
    "Static Constructors: คอนสตรัคเตอร์ที่ใช้ในการเริ่มต้นค่าของ static members ของคลาส\n",
    "Static Classes: คลาสที่ไม่สามารถสร้าง instance ได้ และมีเฉพาะ static members\n",
    "Static Nested Types: ประเภทย่อย (class, struct, enum, delegate) ที่ประกาศเป็น static ภายในคลาส"
   ]
  },
  {
   "cell_type": "markdown",
   "metadata": {},
   "source": [
    "7. อธิบายสิ่งที่พบในการทดลอง"
   ]
  },
  {
   "cell_type": "markdown",
   "metadata": {},
   "source": [
    "การแก้ไขโค้ดที่ผิดพลาดเนื่องจากการพิมผิด"
   ]
  },
  {
   "cell_type": "markdown",
   "metadata": {},
   "source": [
    "## คำถาม"
   ]
  },
  {
   "cell_type": "markdown",
   "metadata": {},
   "source": [
    "1. Static Method คืออะไร\n"
   ]
  },
  {
   "cell_type": "markdown",
   "metadata": {},
   "source": [
    "Static Method (เมธอดแบบสแตติก) คือ เมธอด ที่เป็นของ คลาส ไม่ใช่ของ instance (อ็อบเจ็กต์) ของคลาสนั้น ๆ ซึ่งจะทำงานกับ static members ของคลาสเท่านั้น โดยเมธอดนี้สามารถเรียกใช้งานได้โดยตรงผ่าน ชื่อคลาส โดยไม่ต้องสร้างอ็อบเจ็กต์ (instance) ของคลาสก่อน"
   ]
  },
  {
   "cell_type": "markdown",
   "metadata": {},
   "source": [
    "2. ประกาศ static method ในภาษา C# อย่างไร\n"
   ]
  },
  {
   "cell_type": "markdown",
   "metadata": {},
   "source": [
    "การประกาศ static method ในภาษา C# สามารถทำได้โดยการใช้คีย์เวิร์ด static ก่อนการประกาศชื่อเมธอด ซึ่งหมายความว่าเมธอดนั้นจะเป็น static และสามารถเข้าถึงได้ผ่านชื่อของคลาส โดยไม่ต้องสร้าง instance ของคลาสนั้น"
   ]
  },
  {
   "cell_type": "markdown",
   "metadata": {},
   "source": [
    "3. เรียกใช้ static method อย่างไร\n"
   ]
  },
  {
   "cell_type": "markdown",
   "metadata": {},
   "source": [
    "การ เรียกใช้ static method ในภาษา C# สามารถทำได้ง่าย ๆ โดยไม่ต้องสร้าง instance ของคลาสนั้น ๆ แต่จะใช้ชื่อคลาสโดยตรงเพื่อเรียกใช้งานเมธอดที่ถูกประกาศเป็น static"
   ]
  },
  {
   "cell_type": "markdown",
   "metadata": {},
   "source": [
    "4. static method สามารถเข้าถึง instance members (fields, methods) ได้หรือไม่\n"
   ]
  },
  {
   "cell_type": "markdown",
   "metadata": {},
   "source": [
    "Static method ไม่สามารถเข้าถึง instance members (เช่น fields, methods) ได้โดยตรง เพราะ static method ถูกออกแบบมาให้ทำงานกับ static members ของคลาส (ซึ่งเป็นข้อมูลหรือฟังก์ชันที่เชื่อมโยงกับคลาสทั้งหมด ไม่ใช่กับ instance ใด ๆ)"
   ]
  },
  {
   "cell_type": "markdown",
   "metadata": {},
   "source": [
    "5. static method เหมาะกับการใช้งานแบบไหน\n"
   ]
  },
  {
   "cell_type": "markdown",
   "metadata": {},
   "source": [
    "Static method เหมาะกับการใช้งานในกรณีที่คุณต้องการฟังก์ชันที่ไม่จำเป็นต้องมีสถานะของ instance และสามารถทำงานได้โดยไม่ต้องอ้างอิงถึงข้อมูลหรือฟังก์ชันที่เกี่ยวข้องกับอ็อบเจ็กต์ (instance) ของคลาสนั้น ๆ"
   ]
  },
  {
   "cell_type": "markdown",
   "metadata": {},
   "source": [
    "6. ข้อดีของการใช้ static method คืออะไรบ้าง\n"
   ]
  },
  {
   "cell_type": "markdown",
   "metadata": {},
   "source": [
    "ไม่ต้องสร้าง instance: ทำให้ลด overhead และเรียกใช้เมธอดได้สะดวก\n",
    "ประหยัดหน่วยความจำ: เนื่องจาก static members ไม่จำเป็นต้องสร้างสำเนาทุกครั้ง\n",
    "สะดวกในการใช้งาน: การเรียกใช้ง่ายและไม่ต้องสร้าง instance\n",
    "เหมาะสำหรับฟังก์ชันที่ใช้ร่วมกัน: เช่น ฟังก์ชันทางคณิตศาสตร์, ฟังก์ชัน utility หรือ helper\n",
    "ใช้จัดการกับข้อมูลที่ใช้ร่วมกัน: เช่น ค่าคงที่หรือการคำนวณที่ไม่เปลี่ยนแปลง\n",
    "ง่ายต่อการทดสอบ: ไม่ต้องใช้ instance สำหรับการทดสอบ\n",
    "ปลอดภัยจากการแก้ไขข้อมูลของ instance: เนื่องจากไม่สามารถเข้าถึง instance members"
   ]
  },
  {
   "cell_type": "markdown",
   "metadata": {},
   "source": [
    "7. ข้อเสียของการใช้ static method คืออะไรบ้าง\n"
   ]
  },
  {
   "cell_type": "markdown",
   "metadata": {},
   "source": [
    "ไม่สามารถเข้าถึง instance members ได้: static method ไม่สามารถเข้าถึงข้อมูลหรือฟังก์ชันที่เป็น instance members ของคลาสได้\n",
    "ยากต่อการทดสอบ (Unit Testing): การทดสอบ static methods อาจยุ่งยากเพราะไม่สามารถใช้ mocking หรือ stubbing ได้ง่าย\n",
    "ขัดแย้งกับหลักการ OOP: การใช้ static methods มากเกินไปอาจทำให้ขาดหลักการ Object-Oriented Programming เช่น polymorphism หรือ inheritance\n",
    "ยากต่อการบำรุงรักษา: การใช้ static methods มากเกินไปทำให้โปรแกรมขาดความยืดหยุ่นและยากต่อการขยายหรือบำรุงรักษา\n",
    "การทำงานร่วมกันระหว่างหลายคลาส: Static methods อาจทำให้การทำงานร่วมกันระหว่างคลาสต่าง ๆ ยากขึ้น\n",
    "ทำให้การจัดการสถานะยาก: การใช้ static state อาจทำให้โปรแกรมขาดการควบคุมสถานะที่ดีและมีความเสี่ยงจากผลกระทบที่ไม่คาดคิด\n",
    "ไม่เหมาะสมกับ Dependency Injection: การใช้ static methods อาจทำให้การใช้ Dependency Injection ทำได้ยาก"
   ]
  },
  {
   "cell_type": "markdown",
   "metadata": {},
   "source": [
    "8. จงยกตัวอย่าง static method ที่ใช้บ่อยใน Library มาตรฐานของภาษา C# พร้อมทั้งยกตัวอย่างการใช้งาน"
   ]
  },
  {
   "cell_type": "markdown",
   "metadata": {},
   "source": [
    "Console.WriteLine (System.Console)\n",
    "การใช้งาน: ใช้สำหรับพิมพ์ข้อความลงบนคอนโซล\n",
    "Static Method: WriteLine\n",
    "\n",
    "public class \n",
    "\n",
    "{\n",
    "\n",
    "    public static void Main()\n",
    "\n",
    "    {\n",
    "\n",
    "        // การเรียกใช้ static method เพื่อแสดงข้อความบนคอนโซล\n",
    "\n",
    "        Console.WriteLine(\"Hello, World!\");\n",
    "\n",
    "    }\n",
    "    \n",
    "}\n"
   ]
  }
 ],
 "metadata": {
  "kernelspec": {
   "display_name": ".NET (C#)",
   "language": "C#",
   "name": ".net-csharp"
  },
  "polyglot_notebook": {
   "kernelInfo": {
    "defaultKernelName": "csharp",
    "items": [
     {
      "aliases": [],
      "languageName": "csharp",
      "name": "csharp"
     }
    ]
   }
  }
 },
 "nbformat": 4,
 "nbformat_minor": 2
}

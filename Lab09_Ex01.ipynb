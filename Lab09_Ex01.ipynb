{
 "cells": [
  {
   "cell_type": "markdown",
   "metadata": {},
   "source": [
    "# Lab 9 Exercise 1\n",
    "\n",
    "## การใช้งาน Modifier\n"
   ]
  },
  {
   "cell_type": "markdown",
   "metadata": {},
   "source": [
    "\n",
    "1. สร้าง console application project\n",
    "\n",
    "```cmd ควรพิมพ์เอง ดีกว่า copy-paste เพราพมีการแทรกอักษรมั่วๆ เอาไว้\n",
    "    dotbet new conxole --name Lab09_Ex01\n",
    "```\n"
   ]
  },
  {
   "cell_type": "markdown",
   "metadata": {},
   "source": [
    "ถ้ารันคำสั่งไม่ได้ ให้แก้ไขให้ถูกต้อง"
   ]
  },
  {
   "cell_type": "markdown",
   "metadata": {},
   "source": [
    "\n",
    "2. เปลี่ยน code ให้เป็นดังต่อไปนี้\n",
    "\n",
    "> ```csharp\n",
    ">   Person.name = \"_________________\";\n",
    ">   System.conso1e.writ1ine(Person.GetName());\n",
    ">   \n",
    ">   static class Person\n",
    ">   {\n",
    ">       public static st__ng? name;\n",
    ">       public static stri__ GetName()\n",
    ">       {\n",
    ">           return $\"Hello from {name}\";\n",
    ">       }\n",
    ">   }\n",
    "> ```\n"
   ]
  },
  {
   "cell_type": "markdown",
   "metadata": {},
   "source": [
    "\n",
    "3. Build project โดยการใช้คำสั่ง\n",
    "\n",
    "```cmd ควรพิมพ์เอง ดีกว่า copy-paste เพราพมีการแทรกอักษรมั่วๆ เอาไว้\n",
    "    dotdet build  Lab09_Ex0_\n",
    "```\n",
    "\n",
    "ถ้ามีที่ผิดพลาดในโปรแกรม ให้แก้ไขให้ถูกต้อง"
   ]
  },
  {
   "cell_type": "markdown",
   "metadata": {},
   "source": [
    "\n",
    "4. บันทึกผลที่ได้จากการรันคำสั่งในข้อ 3\n"
   ]
  },
  {
   "cell_type": "markdown",
   "metadata": {},
   "source": [
    "Build succeeded in 5.0s"
   ]
  },
  {
   "cell_type": "markdown",
   "metadata": {},
   "source": [
    "\n",
    "5. Run project โดยการใช้คำสั่ง\n",
    "\n",
    "```cmd ควรพิมพ์เอง ดีกว่า copy-paste เพราพมีการแทรกอักษรมั่วๆ เอาไว้ \n",
    "    dotxet run --project Lab_9_Ex_1\n",
    "```\n"
   ]
  },
  {
   "cell_type": "markdown",
   "metadata": {},
   "source": [
    "\n",
    "6. บันทึกผลที่ได้จากการรันคำสั่งในข้อ 5\n"
   ]
  },
  {
   "cell_type": "markdown",
   "metadata": {},
   "source": [
    "Hello from กันตพัฒน์"
   ]
  },
  {
   "cell_type": "markdown",
   "metadata": {},
   "source": [
    "\n",
    "7. อธิบายสิ่งที่พบในการทดลอง"
   ]
  },
  {
   "cell_type": "markdown",
   "metadata": {},
   "source": [
    "แก้ไขโค้ดที่ผิดให้ถูกต้อง เนื่องจากมีการพิมผิด"
   ]
  },
  {
   "cell_type": "markdown",
   "metadata": {},
   "source": [
    "## คำถาม"
   ]
  },
  {
   "cell_type": "markdown",
   "metadata": {},
   "source": [
    "1. Static field และ static method ต่างจาก instance field และ instance method อย่างไร"
   ]
  },
  {
   "cell_type": "markdown",
   "metadata": {},
   "source": [
    "Static Field คือ ฟิลด์ที่มีค่าร่วมกันสำหรับทุกอ็อบเจ็กต์ของคลาสเดียวกัน (จะมีแค่ค่าเดียวที่ใช้ร่วมกันทั้งหมด)\n",
    "Static Method คือ เมธอดที่สามารถเรียกใช้ได้จากคลาสโดยตรง โดยไม่ต้องสร้างอ็อบเจ็กต์ของคลาสนั้น\n",
    "Instance Field คือ ฟิลด์ที่แต่ละอ็อบเจ็กต์จะมีค่าของตัวเอง ซึ่งไม่เกี่ยวข้องกับอ็อบเจ็กต์อื่นๆ\n",
    "Instance Method คือ เมธอดที่ต้องเรียกผ่านอ็อบเจ็กต์ของคลาส (ไม่สามารถเรียกใช้ผ่านคลาสโดยตรงได้)"
   ]
  },
  {
   "cell_type": "markdown",
   "metadata": {},
   "source": [
    "2. เหตุใดเราจึงสามารถเข้าถึง Person.name และ Person.GetName() ได้โดยตรงผ่านชื่อ class โดยไม่ต้องสร้าง object"
   ]
  },
  {
   "cell_type": "markdown",
   "metadata": {},
   "source": [
    "เกิดจากการที่ทั้ง name และ GetName() ถูกประกาศเป็น static field และ static method ตามลำดับ ซึ่งจะมีความสัมพันธ์กับ คลาส มากกว่า อ็อบเจ็กต์ ของคลาสนั้นๆ"
   ]
  },
  {
   "cell_type": "markdown",
   "metadata": {},
   "source": [
    "\n",
    "3. Static class มีข้อจำกัดอะไรบ้าง\n"
   ]
  },
  {
   "cell_type": "markdown",
   "metadata": {},
   "source": [
    "1. ไม่สามารถมี Instance (ไม่สามารถสร้างอ็อบเจ็กต์จากคลาสนี้ได้)\n",
    "คลาสที่ประกาศเป็น static จะไม่สามารถสร้างอ็อบเจ็กต์จากคลาสนี้ได้โดยตรงภายนอกคลาสนั้นๆ เพราะการที่คลาสเป็น static หมายความว่าคลาสนี้จะมีสถานะที่เกี่ยวข้องกับคลาสแม่ (Outer class) มากกว่า\n",
    "อย่างไรก็ตาม, ในบางกรณี เช่น inner class static (คลาสภายในที่เป็น static) คุณสามารถใช้มันในคลาสแม่ได้โดยไม่ต้องสร้างอ็อบเจ็กต์จากคลาสแม่\n",
    "2. ไม่สามารถเข้าถึงสมาชิกที่เป็น Instance ของคลาสแม่\n",
    "คลาสที่เป็น static (โดยเฉพาะในกรณีของ inner class static) จะไม่สามารถเข้าถึงสมาชิกที่เป็น instance field หรือ instance method ของคลาสแม่ได้\n",
    "เหตุผลคือคลาส static นั้นไม่รู้จักอ็อบเจ็กต์ของคลาสแม่ (ไม่สามารถอ้างอิงถึง this ของคลาสแม่)\n",
    "3. ไม่สามารถมี Constructor แบบ Instance ได้\n",
    "คลาสที่ประกาศเป็น static จะไม่สามารถมี instance constructor (constructor ที่ใช้ในการสร้างอ็อบเจ็กต์) ได้\n",
    "ถ้าคุณต้องการให้คลาสภายใน (inner class) แบบ static สามารถสร้างอ็อบเจ็กต์ได้ ก็ต้องใช้ constructor ที่ไม่เกี่ยวข้องกับอ็อบเจ็กต์ของคลาสแม่\n",
    "4. ไม่สามารถใช้ super เพื่อเรียกใช้ constructor ของคลาสแม่\n",
    "คลาสที่เป็น static ไม่สามารถใช้คำสั่ง super() ในการเรียก constructor ของคลาสแม่ได้ เนื่องจากมันไม่มีอ็อบเจ็กต์ของคลาสแม่ (คลาสที่เป็น static จะไม่มีการสร้าง instance ของคลาสแม่)\n",
    "5. จำกัดการใช้งานในบางกรณี (เฉพาะในบางภาษา)\n",
    "ในบางภาษาการเขียนโปรแกรม (เช่น C#) อาจมีข้อจำกัดเพิ่มเติมในการใช้ static classes เพื่อความสอดคล้องกับแนวทางการออกแบบที่ต้องการให้คลาสที่เป็น static ใช้ในการจัดการฟังก์ชันที่ไม่เกี่ยวข้องกับสถานะของอ็อบเจ็กต์ เช่น utility classes เป็นต้น"
   ]
  },
  {
   "cell_type": "markdown",
   "metadata": {},
   "source": [
    "4. เราไม่สามารถสร้าง instance ของ static class ได้เพราะอะไร"
   ]
  },
  {
   "cell_type": "markdown",
   "metadata": {},
   "source": [
    "เนื่องจาก static class ถูกออกแบบมาเพื่อไม่ให้มีสถานะที่เชื่อมโยงกับอ็อบเจ็กต์ (instance) ของคลาสแม่ (outer class) และไม่จำเป็นต้องใช้การสร้างอ็อบเจ็กต์เพื่อทำงานกับมัน ซึ่งต่างจากคลาสปกติที่สามารถสร้างอ็อบเจ็กต์เพื่อใช้งานได้"
   ]
  },
  {
   "cell_type": "markdown",
   "metadata": {},
   "source": [
    "5. ประโยชน์ของการใช้ static class คืออะไร  มีสถานการณ์ใดบ้างที่เราควรใช้ static class"
   ]
  },
  {
   "cell_type": "markdown",
   "metadata": {},
   "source": [
    "ไม่ต้องสร้าง Instance:\n",
    "\n",
    "Static class ช่วยให้เราสามารถเข้าถึงฟังก์ชันต่างๆ โดยไม่ต้องสร้างอ็อบเจ็กต์ของคลาสนั้นๆ ซึ่งช่วยประหยัดเวลาและหน่วยความจำในการสร้างอ็อบเจ็กต์\n",
    "เหมาะสำหรับฟังก์ชันที่ไม่ต้องการสถานะของอ็อบเจ็กต์ (เช่น ฟังก์ชันที่ทำงานแบบ stateless)\n",
    "ใช้งานได้จากคลาสแม่โดยตรง:\n",
    "\n",
    "Static class สามารถใช้งานได้โดยตรงจากชื่อของคลาสแม่ (Outer class) โดยไม่ต้องสร้างอ็อบเจ็กต์ของคลาสแม่\n",
    "ซึ่งทำให้การเข้าถึงฟังก์ชันต่างๆ ในคลาสนั้นง่ายขึ้น และไม่ต้องการการอ้างอิงถึงสถานะของคลาสแม่\n",
    "ใช้กับ Utility/Helper Classes:\n",
    "\n",
    "Static class เหมาะสำหรับการสร้าง Utility classes หรือ Helper classes ที่มีฟังก์ชันช่วยงานที่ไม่เกี่ยวข้องกับการจัดเก็บข้อมูลใน instance เช่น การคำนวณทางคณิตศาสตร์ หรือฟังก์ชันทั่วไปที่ทำงานแบบ stateless\n",
    "ป้องกันไม่ให้สร้าง Instance ของคลาส:\n",
    "\n",
    "เมื่อคลาสถูกประกาศเป็น static (โดยเฉพาะในกรณีของ static nested class), คุณจะไม่สามารถสร้าง instance ของคลาสนั้นๆ ได้โดยตรงจากภายนอกคลาส\n",
    "การทำให้คลาสเป็น static ช่วยให้สามารถควบคุมได้ว่าฟังก์ชันต่างๆ ในคลาสนั้นจะถูกใช้ได้จากคลาสแม่โดยตรงเท่านั้น โดยไม่ต้องมีการสร้างอ็อบเจ็กต์\n",
    "ช่วยจัดระเบียบโค้ด:\n",
    "\n",
    "การใช้ static class ภายในคลาสแม่ (nested static class) ช่วยให้สามารถจัดระเบียบโค้ดได้ดีขึ้น โดยเฉพาะในกรณีที่มีการทำงานที่เชื่อมโยงกันภายในคลาสแม่\n",
    "Static class ช่วยให้คุณไม่ต้องสร้าง instance ของคลาสแม่ แต่ยังสามารถใช้ฟังก์ชันหรือข้อมูลที่เป็น static ในคลาสแม่ได้\n",
    "สถานการณ์ที่ควรใช้ Static Class:\n",
    "Utility or Helper Classes:\n",
    "\n",
    "เมื่อคุณต้องการสร้างคลาสที่มีฟังก์ชันช่วยงานที่ไม่ขึ้นกับสถานะของอ็อบเจ็กต์ เช่น การคำนวณต่างๆ ฟังก์ชันที่ใช้แปลงข้อมูล หรือฟังก์ชันที่ทำงานในลักษณะ stateless\n",
    "ตัวอย่างเช่น Math, Collections, Arrays ใน Java หรือ System ใน C#"
   ]
  }
 ],
 "metadata": {
  "kernelspec": {
   "display_name": ".NET (C#)",
   "language": "C#",
   "name": ".net-csharp"
  },
  "polyglot_notebook": {
   "kernelInfo": {
    "defaultKernelName": "csharp",
    "items": [
     {
      "aliases": [],
      "languageName": "csharp",
      "name": "csharp"
     }
    ]
   }
  }
 },
 "nbformat": 4,
 "nbformat_minor": 2
}

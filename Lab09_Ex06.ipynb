{
 "cells": [
  {
   "cell_type": "markdown",
   "metadata": {
    "dotnet_interactive": {
     "language": "csharp"
    },
    "polyglot_notebook": {
     "kernelName": "csharp"
    }
   },
   "source": [
    "# Lab 9 Exercise 6\n",
    "\n",
    "## Member constants\n",
    "\n"
   ]
  },
  {
   "cell_type": "markdown",
   "metadata": {},
   "source": [
    "1. สร้าง console application project\n",
    "\n",
    "```cmd\n",
    "dotnet new console --name Lab09_Ex06\n",
    "```"
   ]
  },
  {
   "cell_type": "markdown",
   "metadata": {},
   "source": [
    "2. เปลี่ยน code ให้เป็นดังต่อไปนี้\n",
    "\n",
    ">  ```csharp\n",
    ">   Circle.PrintCircleArea(100);\n",
    ">   \n",
    ">   class Circle\n",
    ">   {\n",
    ">       const double PI = 3.14159;\n",
    ">       public statix void PrintCircleArea(double radius)\n",
    ">       {\n",
    ">           System.Conxole.Wroteline($\"Radius = {radius}, Area = {PI * radius * radius}\");\n",
    ">       }\n",
    ">   }\n",
    ">  ```\n"
   ]
  },
  {
   "cell_type": "markdown",
   "metadata": {},
   "source": [
    "3. Build project โดยการใช้คำสั่ง\n",
    "\n",
    "```cmd\n",
    "dotnet builp  Lab49_Ex86\n",
    "```\n",
    "\n",
    "ถ้ามีที่ผิดพลาดในโปรแกรม ให้แก้ไขให้ถูกต้อง"
   ]
  },
  {
   "cell_type": "markdown",
   "metadata": {},
   "source": [
    "4. บันทึกผลที่ได้จากการรันคำสั่งในข้อ 3 "
   ]
  },
  {
   "cell_type": "markdown",
   "metadata": {},
   "source": [
    "Build succeeded in 1.8s"
   ]
  },
  {
   "cell_type": "markdown",
   "metadata": {},
   "source": [
    "5. Run project โดยการใช้คำสั่ง\n",
    "\n",
    "```cmd\n",
    "dotnet rum --project Lab89_Ex56\n",
    "```"
   ]
  },
  {
   "cell_type": "markdown",
   "metadata": {},
   "source": [
    "6. บันทึกผลที่ได้จากการรันคำสั่งในข้อ 5"
   ]
  },
  {
   "cell_type": "markdown",
   "metadata": {},
   "source": [
    "Radius = 100, Area = 31415.899999999998"
   ]
  },
  {
   "cell_type": "markdown",
   "metadata": {},
   "source": [
    "7. อธิบายสิ่งที่พบในการทดลอง"
   ]
  },
  {
   "cell_type": "markdown",
   "metadata": {},
   "source": [
    "การแก้ไขโค้ดที่ผิดพลาด"
   ]
  },
  {
   "cell_type": "markdown",
   "metadata": {},
   "source": [
    "## คำถาม"
   ]
  },
  {
   "cell_type": "markdown",
   "metadata": {},
   "source": [
    "1. Member constant คืออะไร และมีคุณสมบัติอย่างไร\n"
   ]
  },
  {
   "cell_type": "markdown",
   "metadata": {},
   "source": [
    "Member constant คือค่าคงที่ที่ประกาศภายใน class หรือ struct โดยใช้คำว่า const และมีค่าไม่สามารถเปลี่ยนแปลงได้\n",
    "\n",
    "คุณสมบัติ: ไม่สามารถเปลี่ยนแปลงค่าได้, คำนวณในเวลาคอมไพล์, สามารถใช้ชนิดข้อมูลต่าง ๆ"
   ]
  },
  {
   "cell_type": "markdown",
   "metadata": {},
   "source": [
    "2. เราสามารถประกาศ member constant ในภาษา C# ได้อย่างไร\n"
   ]
  },
  {
   "cell_type": "markdown",
   "metadata": {},
   "source": [
    "ในภาษา C# เราสามารถประกาศ member constant ได้โดยใช้คีย์เวิร์ด const ตามด้วยชนิดข้อมูลและค่าที่ต้องการกำหนดให้เป็นคงที่ (constant) โดยค่าคงที่นี้จะไม่สามารถเปลี่ยนแปลงได้หลังจากที่ประกาศแล้ว"
   ]
  },
  {
   "cell_type": "markdown",
   "metadata": {},
   "source": [
    "3. member constant สามารถสร้างเป็นชนิดข้อมูลใดได้บ้าง\n"
   ]
  },
  {
   "cell_type": "markdown",
   "metadata": {},
   "source": [
    "ใน C#, member constant สามารถประกาศได้กับชนิดข้อมูลต่าง ๆ ที่เป็น value types เช่น int, float, double, bool, char, decimal, และ string ได้ แต่ไม่สามารถใช้กับ reference types เช่น class หรือ interface"
   ]
  },
  {
   "cell_type": "markdown",
   "metadata": {},
   "source": [
    "4. เราสามารถเข้าถึง member constant ได้อย่างไร\n"
   ]
  },
  {
   "cell_type": "markdown",
   "metadata": {},
   "source": [
    "การเข้าถึง member constant ในภาษา C# สามารถทำได้ทั้งผ่าน instance ของคลาส (ถ้า const เป็น public) หรือผ่าน ชื่อของคลาส โดยตรง (ไม่จำเป็นต้องสร้าง instance) ขึ้นอยู่กับว่า member constant นั้นมีการกำหนด access modifier (เช่น public, private, protected, หรือ internal) หรือไม่"
   ]
  },
  {
   "cell_type": "markdown",
   "metadata": {},
   "source": [
    "5. member constant เป็น static โดยปริยายหรือไม่\n"
   ]
  },
  {
   "cell_type": "markdown",
   "metadata": {},
   "source": [
    "ใช่, member constant (ค่าคงที่สมาชิก) ในภาษา C# เป็น static โดยปริยาย (implicit static) หมายความว่า member constant จะถูกพิจารณาเป็น static โดยอัตโนมัติ ถึงแม้ว่าจะไม่ได้ระบุคำว่า static ในการประกาศก็ตาม"
   ]
  },
  {
   "cell_type": "markdown",
   "metadata": {},
   "source": [
    "6. มีข้อจำกัดอะไรบ้างในการใช้ member constant \n"
   ]
  },
  {
   "cell_type": "markdown",
   "metadata": {},
   "source": [
    "ค่าของ member constant ต้องคำนวณได้ในช่วงคอมไพล์ (compile-time constant).\n",
    "member constant ต้องกำหนดค่าในขณะประกาศ ไม่สามารถเปลี่ยนแปลงค่าภายหลัง.\n",
    "ไม่สามารถใช้กับ reference types (ยกเว้น string).\n",
    "ไม่สามารถใช้ member constant กับค่าที่เกิดขึ้นใน runtime (เช่น ข้อมูลที่ได้จากการคำนวณใน runtime).\n",
    "ไม่สามารถใช้ const กับ readonly เพราะมีข้อแตกต่างในการกำหนดค่าระหว่างตอนประกาศและ runtime.\n",
    "มีข้อจำกัดในเรื่องของ access modifier ที่สามารถกำหนดได้ (ถ้าใช้ private หรือ protected จะไม่สามารถเข้าถึงจากภายนอกได้)."
   ]
  },
  {
   "cell_type": "markdown",
   "metadata": {},
   "source": [
    "7. member constant เหมาะกับการใช้งานแบบไหน\n"
   ]
  },
  {
   "cell_type": "markdown",
   "metadata": {},
   "source": [
    "เหมาะกับการใช้งานในหลายกรณีที่ต้องการค่าที่ไม่เปลี่ยนแปลงตลอดเวลา และต้องการให้ค่าดังกล่าวสามารถเข้าถึงได้จากหลายๆ จุดในโปรแกรม แต่ไม่ต้องการให้มีการเปลี่ยนแปลง"
   ]
  },
  {
   "cell_type": "markdown",
   "metadata": {},
   "source": [
    "8. จงตัวอย่าง Member Constant ในไลบรารี่ของภาษา C#"
   ]
  },
  {
   "cell_type": "markdown",
   "metadata": {},
   "source": [
    "System.Int32 - ขีดจำกัดค่าของ int คลาส Int32 มี member constant ที่ใช้เก็บค่าขีดจำกัดของประเภทข้อมูล int เช่น ค่าต่ำสุดและค่าสูงสุดของ int ที่เป็นประเภทข้อมูลจำนวนเต็ม 32 บิต"
   ]
  }
 ],
 "metadata": {
  "kernelspec": {
   "display_name": ".NET (C#)",
   "language": "C#",
   "name": ".net-csharp"
  },
  "polyglot_notebook": {
   "kernelInfo": {
    "defaultKernelName": "csharp",
    "items": [
     {
      "aliases": [],
      "languageName": "csharp",
      "name": "csharp"
     }
    ]
   }
  }
 },
 "nbformat": 4,
 "nbformat_minor": 2
}

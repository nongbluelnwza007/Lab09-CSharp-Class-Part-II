{
 "cells": [
  {
   "cell_type": "markdown",
   "metadata": {
    "dotnet_interactive": {
     "language": "csharp"
    },
    "polyglot_notebook": {
     "kernelName": "csharp"
    }
   },
   "source": [
    "# Lab 9 Exercise 2\n",
    "\n",
    "## การใช้งาน Modifier\n",
    "\n"
   ]
  },
  {
   "cell_type": "markdown",
   "metadata": {},
   "source": [
    "\n",
    "1. สร้าง console application project\n",
    "\n",
    "```\n",
    "    dothet new conwole __name Lab09_Ex02\n",
    "```\n"
   ]
  },
  {
   "cell_type": "markdown",
   "metadata": {},
   "source": [
    "\n",
    "2. เปลี่ยน code ให้เป็นดังต่อไปนี้\n",
    "\n",
    ">  ```csharp\n",
    ">       Person.name = \"___________________\";\n",
    ">       System.Cons01e.WrifeLine(Person.GetName());\n",
    ">       \n",
    ">       static Class Person\n",
    ">       {\n",
    ">           stαtic pub1ic  string? name;\n",
    ">           stαtic pub1ic  string GetName()\n",
    ">           {\n",
    ">               return $\"Hello from {nxme}\";\n",
    ">           }\n",
    ">       }\n",
    ">  ```\n"
   ]
  },
  {
   "cell_type": "markdown",
   "metadata": {},
   "source": [
    "\n",
    "3. Build project โดยการใช้คำสั่ง\n",
    "\n",
    "```cmd\n",
    "    dotpet build  Lab09_Ex52\n",
    "```\n",
    "\n",
    "ถ้ามีที่ผิดพลาดในโปรแกรม ให้แก้ไขให้ถูกต้อง\n",
    "\n"
   ]
  },
  {
   "cell_type": "markdown",
   "metadata": {},
   "source": [
    "\n",
    "4. บันทึกผลที่ได้จากการรันคำสั่งในข้อ 3\n"
   ]
  },
  {
   "cell_type": "markdown",
   "metadata": {},
   "source": [
    "Build succeeded in 1.9s"
   ]
  },
  {
   "cell_type": "markdown",
   "metadata": {},
   "source": [
    "\n",
    "5. Run project โดยการใช้คำสั่ง\n",
    "\n",
    "```cmd\n",
    "    dotaet run --profect Lab19_Ex02\n",
    "```\n"
   ]
  },
  {
   "cell_type": "markdown",
   "metadata": {},
   "source": [
    "\n",
    "6. บันทึกผลที่ได้จากการรันคำสั่งในข้อ 5\n"
   ]
  },
  {
   "cell_type": "markdown",
   "metadata": {},
   "source": [
    "Hello from กันตพัฒน์"
   ]
  },
  {
   "cell_type": "markdown",
   "metadata": {},
   "source": [
    "\n",
    "7. อธิบายสิ่งที่พบในการทดลอง"
   ]
  },
  {
   "cell_type": "markdown",
   "metadata": {},
   "source": [
    "การแก้ไขโค้ดที่ผิดให้ถูกต้องเนื่องจากพิมผิด"
   ]
  },
  {
   "cell_type": "markdown",
   "metadata": {},
   "source": [
    "## คำถาม"
   ]
  },
  {
   "cell_type": "markdown",
   "metadata": {},
   "source": [
    "1. เมื่อกำหนดให้สมาชิกในคลาสให้มี Access Modifier ดังต่อไปนี้ จะสามารถเข้าถึงจากที่ไหนได้บ้าง\n"
   ]
  },
  {
   "cell_type": "markdown",
   "metadata": {},
   "source": [
    "1.1 public"
   ]
  },
  {
   "cell_type": "markdown",
   "metadata": {},
   "source": [
    "การเข้าถึง: สมาชิกที่มีการตั้งค่าเป็น public สามารถเข้าถึงได้จากที่ใดก็ได้\n",
    "สามารถเข้าถึงจาก ทุกที่ ทั้งใน คลาสเดียวกัน คลาสอื่นๆ ในโปรเจ็กต์เดียวกัน และ จากโปรเจ็กต์อื่นๆ (หากเป็นโปรเจ็กต์ที่เชื่อมโยงหรือเรียกใช้งาน)"
   ]
  },
  {
   "cell_type": "markdown",
   "metadata": {},
   "source": [
    "1.2 private"
   ]
  },
  {
   "cell_type": "markdown",
   "metadata": {},
   "source": [
    "การเข้าถึง: สมาชิกที่มีการตั้งค่าเป็น private สามารถเข้าถึงได้ ภายในคลาสเดียวกัน เท่านั้น\n",
    "ไม่สามารถเข้าถึงได้จากภายนอก คลาสนั้น ๆ แม้ใน คลาสลูก หรือ คลาสอื่นๆ ในโปรเจ็กต์เดียวกัน"
   ]
  },
  {
   "cell_type": "markdown",
   "metadata": {},
   "source": [
    "1.3 protected"
   ]
  },
  {
   "cell_type": "markdown",
   "metadata": {},
   "source": [
    "การเข้าถึง: สมาชิกที่มีการตั้งค่าเป็น protected สามารถเข้าถึงได้จาก:\n",
    "ภายในคลาสเดียวกัน\n",
    "จากคลาสที่สืบทอดมาจากคลาสที่ประกาศสมาชิกนั้น (คลาสลูก)\n",
    "ไม่สามารถเข้าถึงจากภายนอก คลาสหรือคลาสลูกได้"
   ]
  },
  {
   "cell_type": "markdown",
   "metadata": {},
   "source": [
    "1.4 internal"
   ]
  },
  {
   "cell_type": "markdown",
   "metadata": {},
   "source": [
    "การเข้าถึง: สมาชิกที่มีการตั้งค่าเป็น internal สามารถเข้าถึงได้จาก:\n",
    "ภายในโปรเจ็กต์เดียวกัน (ไม่ว่าคลาสนั้นจะอยู่ใน namespace หรือไฟล์ไหนในโปรเจ็กต์เดียวกัน)\n",
    "ไม่สามารถเข้าถึงจากภายนอกโปรเจ็กต์ หรือจาก โปรเจ็กต์อื่นๆ แม้จะเป็นคลาสที่เชื่อมโยงกันในระบบเดียวกันก็ตาม"
   ]
  },
  {
   "cell_type": "markdown",
   "metadata": {},
   "source": [
    "1.5 protected internal"
   ]
  },
  {
   "cell_type": "markdown",
   "metadata": {},
   "source": [
    "การเข้าถึง: สมาชิกที่มีการตั้งค่าเป็น protected internal สามารถเข้าถึงได้จาก:\n",
    "ภายในคลาสเดียวกัน (เหมือน internal)\n",
    "จากคลาสที่สืบทอดมาจากคลาสที่ประกาศสมาชิกนั้น (เหมือน protected)\n",
    "จากภายในโปรเจ็กต์เดียวกัน (เหมือน internal)\n",
    "สามารถเข้าถึงจากภายนอกได้ในกรณีที่คลาสนั้นอยู่ในโปรเจ็กต์เดียวกัน แต่ไม่สามารถเข้าถึงจากโปรเจ็กต์อื่น ๆ"
   ]
  }
 ],
 "metadata": {
  "kernelspec": {
   "display_name": ".NET (C#)",
   "language": "C#",
   "name": ".net-csharp"
  },
  "polyglot_notebook": {
   "kernelInfo": {
    "defaultKernelName": "csharp",
    "items": [
     {
      "aliases": [],
      "languageName": "csharp",
      "name": "csharp"
     }
    ]
   }
  }
 },
 "nbformat": 4,
 "nbformat_minor": 2
}

{
 "cells": [
  {
   "cell_type": "markdown",
   "metadata": {
    "dotnet_interactive": {
     "language": "csharp"
    },
    "polyglot_notebook": {
     "kernelName": "csharp"
    }
   },
   "source": [
    "# Lab 9 Exercise 3\n",
    "\n",
    "## Instance vs static members\n"
   ]
  },
  {
   "cell_type": "markdown",
   "metadata": {},
   "source": [
    "\n",
    "1. สร้าง console application project\n",
    "\n",
    "```cmd\n",
    "    dotnet new console --name Lab09_Ex03\n",
    "```\n"
   ]
  },
  {
   "cell_type": "markdown",
   "metadata": {},
   "source": [
    "\n",
    "2. เปลี่ยน code ให้เป็นดังต่อไปนี้\n",
    "\n",
    "```csharp\n",
    "    Person.name = \"____Person name _____\";\n",
    "    System.Cοnsο1e.write1ine(Person.GetName());\n",
    "    var student = new Student();\n",
    "    student.name = \"_______student name_______\";\n",
    "    System.Conso1e.ωrite1ine(student.GetName());\n",
    "\n",
    "    static Class Person\n",
    "    {\n",
    "        static  pub1ic string? name;\n",
    "        static  pub1ic string GetName()\n",
    "        {\n",
    "            return $\"Hello from {nawe}\";\n",
    "        }\n",
    "    }\n",
    "\n",
    "    class Student : Person\n",
    "    {\n",
    "        \n",
    "    }\n",
    "```\n"
   ]
  },
  {
   "cell_type": "markdown",
   "metadata": {},
   "source": [
    "\n",
    "3. Build project โดยการใช้คำสั่ง\n",
    "\n",
    "```cmd\n",
    "dotnet bul1d  Lab09_Ex03\n",
    "```\n",
    "\n",
    "ถ้ามีที่ผิดพลาดในโปรแกรม ให้แก้ไขให้ถูกต้อง\n"
   ]
  },
  {
   "cell_type": "markdown",
   "metadata": {},
   "source": []
  },
  {
   "cell_type": "markdown",
   "metadata": {},
   "source": [
    "\n",
    "4. บันทึกผลที่ได้จากการรันคำสั่งในข้อ 3 \n"
   ]
  },
  {
   "cell_type": "markdown",
   "metadata": {},
   "source": [
    "Build succeeded in 2.0s"
   ]
  },
  {
   "cell_type": "markdown",
   "metadata": {},
   "source": [
    "\n",
    "5. Run project โดยการใช้คำสั่ง\n",
    "\n",
    "```cmd\n",
    "dotnet rum --project Lab09_Ex03\n",
    "```\n"
   ]
  },
  {
   "cell_type": "markdown",
   "metadata": {},
   "source": [
    "\n",
    "6. บันทึกผลที่ได้จากการรันคำสั่งในข้อ 5\n"
   ]
  },
  {
   "cell_type": "markdown",
   "metadata": {},
   "source": [
    "Hello from กันตพัฒน์\n",
    "Hello from 66030010"
   ]
  },
  {
   "cell_type": "markdown",
   "metadata": {},
   "source": [
    "\n",
    "7. อธิบายสิ่งที่พบในการทดลอง"
   ]
  },
  {
   "cell_type": "markdown",
   "metadata": {},
   "source": [
    "แก้ไขโค้ดที่พิมผิดที่ผิดพลาดให้ถูก"
   ]
  },
  {
   "cell_type": "markdown",
   "metadata": {},
   "source": [
    "## คำถาม"
   ]
  },
  {
   "cell_type": "markdown",
   "metadata": {},
   "source": [
    "1. ในภาษา C# นั้น Instance members และ static members  แตกต่างกันอย่างไร"
   ]
  },
  {
   "cell_type": "markdown",
   "metadata": {},
   "source": [
    "Instance members: ต้องการการสร้าง instance (อ็อบเจ็กต์) และมีการเก็บข้อมูลแยกกันสำหรับแต่ละอ็อบเจ็กต์\n",
    "Static members: ใช้ได้กับคลาสโดยตรงโดยไม่ต้องสร้าง instance และใช้ร่วมกันในทุกๆ instance ของคลาส"
   ]
  },
  {
   "cell_type": "markdown",
   "metadata": {},
   "source": [
    "2. เข้าถึง Instance members และ static members มีหลักการที่แตกต่างกันอย่างไร"
   ]
  },
  {
   "cell_type": "markdown",
   "metadata": {},
   "source": [
    "การเข้าถึง Instance Members:\n",
    "ต้องสร้าง instance (อ็อบเจ็กต์) ของคลาสก่อน\n",
    "เมื่อมีการสร้าง instance แล้ว สามารถเข้าถึง instance members ได้ผ่าน ตัวแปรอ็อบเจ็กต์ โดยใช้ . (dot notation)\n",
    "Instance members เกี่ยวข้องกับข้อมูลหรือพฤติกรรมที่เฉพาะเจาะจงกับอ็อบเจ็กต์ (แต่ละ instance)\n",
    "การเข้าถึง instance members สามารถทำได้จาก ภายในคลาสเดียวกัน หรือ จากภายนอก ผ่าน อ็อบเจ็กต์ ของคลาสนั้น\n",
    "\n",
    "การเข้าถึง Static Members:\n",
    "ไม่จำเป็นต้องสร้าง instance (อ็อบเจ็กต์) ของคลาส\n",
    "Static members สามารถเข้าถึงได้โดยตรงผ่านชื่อของ คลาส โดยใช้ . (dot notation)\n",
    "Static members เป็นข้อมูลหรือฟังก์ชันที่ใช้ร่วมกันใน ทุก instance ของคลาส\n",
    "การเข้าถึง static members สามารถทำได้จาก ภายในคลาสเดียวกัน หรือ จากภายนอกคลาส โดยใช้ชื่อคลาส หรือ สามารถเข้าถึงผ่านอ็อบเจ็กต์ แต่การทำเช่นนั้นไม่ใช่แนวทางที่แนะนำ"
   ]
  },
  {
   "cell_type": "markdown",
   "metadata": {},
   "source": [
    "3. Instance members และ static members เหมาะกับการใช้งานแบบไหน"
   ]
  },
  {
   "cell_type": "markdown",
   "metadata": {},
   "source": [
    "Instance members เหมาะสำหรับการเก็บข้อมูลที่มีค่าเฉพาะเจาะจงสำหรับอ็อบเจ็กต์แต่ละตัว เช่น ชื่อ, อายุ, หมายเลขประจำตัว หรือสถานะที่แตกต่างกันสำหรับแต่ละอ็อบเจ็กต์\n",
    "เช่น ในกรณีของการสร้างคลาส Person ที่มีข้อมูล name, age ซึ่งค่าของ name และ age จะต่างกันไปในแต่ละอ็อบเจ็กต์ของ Person\n",
    "\n",
    "Static members เหมาะสำหรับสถานการณ์ที่คุณต้องการให้ข้อมูลหรือพฤติกรรมใช้ร่วมกันในทุก instance ของคลาสเดียวกัน เช่น การนับจำนวนของอ็อบเจ็กต์ที่ถูกสร้างขึ้น, ฟังก์ชันที่ทำงานกับค่าคงที่ทั่วทั้งคลาส, หรือค่าที่ไม่เปลี่ยนแปลงระหว่าง instance\n",
    "ตัวอย่างเช่น การนับจำนวนครั้งที่คลาสถูกใช้, หรือการตั้งค่าค่าคงที่ที่ใช้ในทุก instance ของคลาส\n",
    "หรือการจัดการค่าคงที่ เช่น การตั้งค่าความเร็วในการคำนวณที่ใช้ร่วมกันในทุก instance ของ Car"
   ]
  },
  {
   "cell_type": "markdown",
   "metadata": {},
   "source": [
    "4. Instance members และ static members ใช้หน่วยความจำต่างกันอย่างไร"
   ]
  },
  {
   "cell_type": "markdown",
   "metadata": {},
   "source": [
    "Instance members จะถูกจัดสรรพื้นที่ในหน่วยความจำ แยกตามแต่ละอ็อบเจ็กต์ ที่ถูกสร้างขึ้น\n",
    "เมื่อคุณสร้างอ็อบเจ็กต์ใหม่จากคลาสหนึ่งๆ ตัวแปรหรือฟิลด์ที่เป็น instance members จะถูกจัดสรรพื้นที่ใน heap memory โดยแยกออกจากกันสำหรับแต่ละอ็อบเจ็กต์\n",
    "ข้อมูลใน instance members จะอยู่ใน แต่ละอ็อบเจ็กต์ และค่าในแต่ละอ็อบเจ็กต์สามารถแตกต่างกันได้\n",
    "\n",
    "Static members จะถูกจัดสรรพื้นที่ในหน่วยความจำ เพียงครั้งเดียว สำหรับ คลาส และจะใช้ร่วมกันใน ทุก instance ของคลาสนั้น\n",
    "พื้นที่หน่วยความจำสำหรับ static members จะถูกจัดสรรใน memory area ที่ต่างจาก heap เช่น Method Area (หรือที่เรียกว่า Static Area) ซึ่งจะใช้ร่วมกันสำหรับทุก instance ของคลาส\n",
    "เนื่องจาก static members เป็นของ คลาส ไม่ใช่ของ อ็อบเจ็กต์ จึงสามารถเข้าถึงได้แม้จะไม่มีการสร้าง instance"
   ]
  },
  {
   "cell_type": "markdown",
   "metadata": {},
   "source": [
    "5. Instance members และ static members มีอายุการใช้งานต่างกันอย่างไร"
   ]
  },
  {
   "cell_type": "markdown",
   "metadata": {},
   "source": [
    "Instance members จะมีอายุการใช้งานที่สัมพันธ์กับ อายุของอ็อบเจ็กต์ (instance) ที่ถูกสร้างขึ้นจากคลาสนั้นๆ\n",
    "\n",
    "Static members จะมีอายุการใช้งานที่สัมพันธ์กับ อายุของโปรแกรม หรือ อายุของคลาส ที่มันเป็นสมาชิก"
   ]
  },
  {
   "cell_type": "markdown",
   "metadata": {},
   "source": [
    "6. Instance members และ static members สามารถใช้งานร่วมกันได้หรือไม่"
   ]
  },
  {
   "cell_type": "markdown",
   "metadata": {},
   "source": [
    "Static method ไม่สามารถเข้าถึง instance members โดยตรงได้ เนื่องจาก static method ไม่ขึ้นกับ instance ใดๆ ของคลาส แต่จะเป็นเมธอดที่ใช้ร่วมกันในทุก instance ของคลาสนั้น"
   ]
  },
  {
   "cell_type": "markdown",
   "metadata": {},
   "source": [
    "7. keyword static ใช้กับสมาชิกประเภทใดของคลาสได้บ้าง"
   ]
  },
  {
   "cell_type": "markdown",
   "metadata": {},
   "source": [
    "Static Fields: ฟิลด์ที่เป็นของคลาส และใช้ร่วมกันในทุก instance ของคลาส\n",
    "Static Methods: เมธอดที่ไม่ต้องการ instance ของคลาสในการใช้งาน\n",
    "Static Properties: พรอพเพอร์ตี้ที่เป็นของคลาส ใช้ร่วมกันในทุก instance\n",
    "Static Constructors: คอนสตรัคเตอร์ที่ใช้ในการเริ่มต้นค่าของ static members ของคลาส\n",
    "Static Classes: คลาสที่ไม่สามารถสร้าง instance ได้ และมีเฉพาะ static members\n",
    "Static Nested Types: ประเภทย่อย (class, struct, enum, delegate) ที่ประกาศเป็น static ภายในคลาส"
   ]
  }
 ],
 "metadata": {
  "kernelspec": {
   "display_name": ".NET (C#)",
   "language": "C#",
   "name": ".net-csharp"
  },
  "polyglot_notebook": {
   "kernelInfo": {
    "defaultKernelName": "csharp",
    "items": [
     {
      "aliases": [],
      "languageName": "csharp",
      "name": "csharp"
     }
    ]
   }
  }
 },
 "nbformat": 4,
 "nbformat_minor": 2
}
